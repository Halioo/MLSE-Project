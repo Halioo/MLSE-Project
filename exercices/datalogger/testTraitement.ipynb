{
 "cells": [
  {
   "cell_type": "code",
   "execution_count": 18,
   "metadata": {},
   "outputs": [
    {
     "ename": "AttributeError",
     "evalue": "'list' object has no attribute 'drop'",
     "output_type": "error",
     "traceback": [
      "\u001b[1;31m---------------------------------------------------------------------------\u001b[0m",
      "\u001b[1;31mAttributeError\u001b[0m                            Traceback (most recent call last)",
      "\u001b[1;32m~\\AppData\\Local\\Temp/ipykernel_12776/1874721918.py\u001b[0m in \u001b[0;36m<module>\u001b[1;34m\u001b[0m\n\u001b[0;32m     33\u001b[0m     \u001b[0mseparerCsv\u001b[0m\u001b[1;33m(\u001b[0m\u001b[0mdataSet\u001b[0m\u001b[1;33m)\u001b[0m\u001b[1;33m\u001b[0m\u001b[1;33m\u001b[0m\u001b[0m\n\u001b[0;32m     34\u001b[0m     \u001b[0msliceDf\u001b[0m\u001b[1;33m(\u001b[0m\u001b[0mdataSet\u001b[0m\u001b[1;33m,\u001b[0m \u001b[1;36m2000\u001b[0m\u001b[1;33m/\u001b[0m\u001b[1;36m20\u001b[0m\u001b[1;33m)\u001b[0m\u001b[1;33m\u001b[0m\u001b[1;33m\u001b[0m\u001b[0m\n\u001b[1;32m---> 35\u001b[1;33m     \u001b[0mremoveTime\u001b[0m\u001b[1;33m(\u001b[0m\u001b[0mdataSet\u001b[0m\u001b[1;33m)\u001b[0m\u001b[1;33m\u001b[0m\u001b[1;33m\u001b[0m\u001b[0m\n\u001b[0m\u001b[0;32m     36\u001b[0m     \u001b[1;31m#plt.figure()\u001b[0m\u001b[1;33m\u001b[0m\u001b[1;33m\u001b[0m\u001b[1;33m\u001b[0m\u001b[0m\n\u001b[0;32m     37\u001b[0m     \u001b[1;31m#plt.plot(dataSet[i][\"AccX [mg]\"], label = \"Balancier n°\" + str(i)+\".csv\")\u001b[0m\u001b[1;33m\u001b[0m\u001b[1;33m\u001b[0m\u001b[1;33m\u001b[0m\u001b[0m\n",
      "\u001b[1;32m~\\AppData\\Local\\Temp/ipykernel_12776/1874721918.py\u001b[0m in \u001b[0;36mremoveTime\u001b[1;34m(df)\u001b[0m\n\u001b[0;32m     20\u001b[0m \u001b[1;33m\u001b[0m\u001b[0m\n\u001b[0;32m     21\u001b[0m \u001b[1;32mdef\u001b[0m \u001b[0mremoveTime\u001b[0m\u001b[1;33m(\u001b[0m\u001b[0mdf\u001b[0m\u001b[1;33m)\u001b[0m\u001b[1;33m:\u001b[0m\u001b[1;33m\u001b[0m\u001b[1;33m\u001b[0m\u001b[0m\n\u001b[1;32m---> 22\u001b[1;33m     \u001b[0mdf\u001b[0m \u001b[1;33m=\u001b[0m \u001b[0mdf\u001b[0m\u001b[1;33m.\u001b[0m\u001b[0mdrop\u001b[0m\u001b[1;33m(\u001b[0m\u001b[0mcolumns\u001b[0m\u001b[1;33m=\u001b[0m\u001b[1;33m[\u001b[0m\u001b[1;34m\"T [ms]\"\u001b[0m\u001b[1;33m]\u001b[0m\u001b[1;33m)\u001b[0m\u001b[1;33m\u001b[0m\u001b[1;33m\u001b[0m\u001b[0m\n\u001b[0m\u001b[0;32m     23\u001b[0m     \u001b[1;32mreturn\u001b[0m \u001b[0mdf\u001b[0m\u001b[1;33m\u001b[0m\u001b[1;33m\u001b[0m\u001b[0m\n\u001b[0;32m     24\u001b[0m \u001b[1;33m\u001b[0m\u001b[0m\n",
      "\u001b[1;31mAttributeError\u001b[0m: 'list' object has no attribute 'drop'"
     ]
    }
   ],
   "source": [
    "from pandas import read_csv\n",
    "import matplotlib.pyplot  as plt\n",
    "\n",
    "limites = [[60, 650], [50, 350], [100, 600], [0, 550], [0, 550], [150, 250], [0, 700], [75, 820], [0, 500], [50, 550],\n",
    "           [50, 750], [50, 900], [0, 900], [50, 1000], [100, 1200], [50, 1300], [50, 900], [200, 700], [0, 60], [0, 60],\n",
    "           [0, 25], [100, 800], [100, 900], [100, 600], [100, 850], [50, 900], [100, 1500], [100, 2200], [30, 300], [0, 650],\n",
    "           [0, 550], [100, 500], [0, 710]]\n",
    "dataSet =[]\n",
    "\n",
    "def separerCsv(tableau):\n",
    "    for i in range(len(tableau)):\n",
    "        tableau[i]=tableau[i][limites[i][0]:limites[i][1]]\n",
    "\n",
    "def sliceDf(df, step):\n",
    "    res = []\n",
    "    while (len(df) > step):\n",
    "        res.append(df.iloc[:step])\n",
    "        df = df.iloc[1:]\n",
    "    return res\n",
    "\n",
    "def removeTime(df):\n",
    "    df = df.drop(columns=[\"T [ms]\"])\n",
    "    return df\n",
    "\n",
    "def sampleDf(df, sample):\n",
    "    res = []\n",
    "    for i in range(0, sample): # A tester\n",
    "        res.append(df.iloc[lambda x: x.index % sample == i])\n",
    "    return res\n",
    "\n",
    "for i in range(32):\n",
    "    dataSet.append(read_csv(\"balancier\" + str(i) + \".csv\"))\n",
    "    separerCsv(dataSet)\n",
    "\n",
    "    #pb dans pour drop, mauvais paramètre\n",
    "\n",
    "    #sliceDf(dataSet, 2000/20)\n",
    "    #removeTime(dataSet)\n",
    "    #plt.figure()\n",
    "    #plt.plot(dataSet[i][\"AccX [mg]\"], label = \"Balancier n°\" + str(i)+\".csv\")\n",
    "    #plt.plot(dataSet[i][\"AccY [mg]\"])\n",
    "    #plt.plot(dataSet[i][\"AccZ [mg]\"])\n",
    "    #plt.legend()\n",
    "    #plt.show()"
   ]
  }
 ],
 "metadata": {
  "interpreter": {
   "hash": "e76f0dc653f8d2ef4c080a707dc31e02e03574b68b8024816724bcd14c82a0bd"
  },
  "kernelspec": {
   "display_name": "Python 3.8.0 64-bit",
   "language": "python",
   "name": "python3"
  },
  "language_info": {
   "codemirror_mode": {
    "name": "ipython",
    "version": 3
   },
   "file_extension": ".py",
   "mimetype": "text/x-python",
   "name": "python",
   "nbconvert_exporter": "python",
   "pygments_lexer": "ipython3",
   "version": "3.8.0"
  },
  "orig_nbformat": 4
 },
 "nbformat": 4,
 "nbformat_minor": 2
}

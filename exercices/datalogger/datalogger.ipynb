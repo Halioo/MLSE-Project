{
 "cells": [
  {
   "cell_type": "markdown",
   "metadata": {},
   "source": [
    "# Initialisation\n",
    "Import des packages utile"
   ]
  },
  {
   "cell_type": "code",
   "execution_count": 11,
   "metadata": {},
   "outputs": [],
   "source": [
    "import pandas as pd\n",
    "import matplotlib.pyplot as plt\n",
    "import numpy as np"
   ]
  },
  {
   "cell_type": "markdown",
   "metadata": {},
   "source": [
    "# Analyse des données\n",
    "On commence par importer les données depuis un fichier CSV"
   ]
  },
  {
   "cell_type": "code",
   "execution_count": 12,
   "metadata": {},
   "outputs": [
    {
     "data": {
      "text/plain": [
       "Index(['T [ms]', 'AccX [mg]', 'AccY [mg]', 'AccZ [mg]', 'GyroX [mdps]',\n",
       "       'GyroY [mdps]', 'GyroZ [mdps]'],\n",
       "      dtype='object')"
      ]
     },
     "execution_count": 12,
     "metadata": {},
     "output_type": "execute_result"
    }
   ],
   "source": [
    "d = pd.read_csv('data/old/SensorTile_Log_N008.csv')\n",
    "d.columns"
   ]
  },
  {
   "cell_type": "code",
   "execution_count": 14,
   "metadata": {},
   "outputs": [],
   "source": [
    "def cleanDataframe(df):\n",
    "    df = df.drop(columns=[\"T [ms]\"])\n",
    "    return df\n",
    "\n",
    "def sliceDf(df, step):\n",
    "    res = []\n",
    "    while (len(df) > step):\n",
    "        res.append(df.iloc[:step])\n",
    "        df = df.iloc[step:]\n",
    "    return res"
   ]
  },
  {
   "cell_type": "code",
   "execution_count": 15,
   "metadata": {},
   "outputs": [
    {
     "data": {
      "text/html": [
       "<div>\n",
       "<style scoped>\n",
       "    .dataframe tbody tr th:only-of-type {\n",
       "        vertical-align: middle;\n",
       "    }\n",
       "\n",
       "    .dataframe tbody tr th {\n",
       "        vertical-align: top;\n",
       "    }\n",
       "\n",
       "    .dataframe thead th {\n",
       "        text-align: right;\n",
       "    }\n",
       "</style>\n",
       "<table border=\"1\" class=\"dataframe\">\n",
       "  <thead>\n",
       "    <tr style=\"text-align: right;\">\n",
       "      <th></th>\n",
       "      <th>AccX [mg]</th>\n",
       "      <th>AccY [mg]</th>\n",
       "      <th>AccZ [mg]</th>\n",
       "      <th>GyroX [mdps]</th>\n",
       "      <th>GyroY [mdps]</th>\n",
       "      <th>GyroZ [mdps]</th>\n",
       "    </tr>\n",
       "  </thead>\n",
       "  <tbody>\n",
       "    <tr>\n",
       "      <th>693</th>\n",
       "      <td>-85</td>\n",
       "      <td>281</td>\n",
       "      <td>-98</td>\n",
       "      <td>-248570</td>\n",
       "      <td>380940</td>\n",
       "      <td>-58030</td>\n",
       "    </tr>\n",
       "    <tr>\n",
       "      <th>694</th>\n",
       "      <td>-86</td>\n",
       "      <td>219</td>\n",
       "      <td>-88</td>\n",
       "      <td>-255920</td>\n",
       "      <td>403620</td>\n",
       "      <td>-20580</td>\n",
       "    </tr>\n",
       "    <tr>\n",
       "      <th>695</th>\n",
       "      <td>-97</td>\n",
       "      <td>288</td>\n",
       "      <td>-128</td>\n",
       "      <td>-252560</td>\n",
       "      <td>410060</td>\n",
       "      <td>-19950</td>\n",
       "    </tr>\n",
       "    <tr>\n",
       "      <th>696</th>\n",
       "      <td>-118</td>\n",
       "      <td>459</td>\n",
       "      <td>-213</td>\n",
       "      <td>-207060</td>\n",
       "      <td>418810</td>\n",
       "      <td>-39620</td>\n",
       "    </tr>\n",
       "    <tr>\n",
       "      <th>697</th>\n",
       "      <td>-153</td>\n",
       "      <td>625</td>\n",
       "      <td>-252</td>\n",
       "      <td>-72310</td>\n",
       "      <td>450730</td>\n",
       "      <td>-59640</td>\n",
       "    </tr>\n",
       "    <tr>\n",
       "      <th>698</th>\n",
       "      <td>393</td>\n",
       "      <td>1574</td>\n",
       "      <td>304</td>\n",
       "      <td>128100</td>\n",
       "      <td>509040</td>\n",
       "      <td>-48020</td>\n",
       "    </tr>\n",
       "    <tr>\n",
       "      <th>699</th>\n",
       "      <td>-383</td>\n",
       "      <td>270</td>\n",
       "      <td>-550</td>\n",
       "      <td>155610</td>\n",
       "      <td>632240</td>\n",
       "      <td>15120</td>\n",
       "    </tr>\n",
       "    <tr>\n",
       "      <th>700</th>\n",
       "      <td>-338</td>\n",
       "      <td>138</td>\n",
       "      <td>-845</td>\n",
       "      <td>-515480</td>\n",
       "      <td>1146670</td>\n",
       "      <td>103740</td>\n",
       "    </tr>\n",
       "    <tr>\n",
       "      <th>701</th>\n",
       "      <td>-1314</td>\n",
       "      <td>777</td>\n",
       "      <td>-1101</td>\n",
       "      <td>-438760</td>\n",
       "      <td>1355410</td>\n",
       "      <td>114520</td>\n",
       "    </tr>\n",
       "    <tr>\n",
       "      <th>702</th>\n",
       "      <td>-1681</td>\n",
       "      <td>0</td>\n",
       "      <td>-1220</td>\n",
       "      <td>-22750</td>\n",
       "      <td>1711920</td>\n",
       "      <td>140980</td>\n",
       "    </tr>\n",
       "  </tbody>\n",
       "</table>\n",
       "</div>"
      ],
      "text/plain": [
       "     AccX [mg]  AccY [mg]  AccZ [mg]  GyroX [mdps]  GyroY [mdps]  GyroZ [mdps]\n",
       "693        -85        281        -98       -248570        380940        -58030\n",
       "694        -86        219        -88       -255920        403620        -20580\n",
       "695        -97        288       -128       -252560        410060        -19950\n",
       "696       -118        459       -213       -207060        418810        -39620\n",
       "697       -153        625       -252        -72310        450730        -59640\n",
       "698        393       1574        304        128100        509040        -48020\n",
       "699       -383        270       -550        155610        632240         15120\n",
       "700       -338        138       -845       -515480       1146670        103740\n",
       "701      -1314        777      -1101       -438760       1355410        114520\n",
       "702      -1681          0      -1220        -22750       1711920        140980"
      ]
     },
     "execution_count": 15,
     "metadata": {},
     "output_type": "execute_result"
    }
   ],
   "source": [
    "#d = cleanDataframe(d)\n",
    "d.tail(10)"
   ]
  },
  {
   "cell_type": "code",
   "execution_count": 16,
   "metadata": {},
   "outputs": [
    {
     "data": {
      "text/plain": [
       "703"
      ]
     },
     "execution_count": 16,
     "metadata": {},
     "output_type": "execute_result"
    }
   ],
   "source": [
    "dfs = sliceDf(d, 100)\n",
    "len(d)"
   ]
  },
  {
   "cell_type": "code",
   "execution_count": 17,
   "metadata": {},
   "outputs": [
    {
     "data": {
      "text/plain": [
       "7"
      ]
     },
     "execution_count": 17,
     "metadata": {},
     "output_type": "execute_result"
    }
   ],
   "source": [
    "len(dfs)"
   ]
  },
  {
   "cell_type": "code",
   "execution_count": 18,
   "metadata": {},
   "outputs": [
    {
     "data": {
      "text/plain": [
       "[<matplotlib.lines.Line2D at 0x26c5cf29460>]"
      ]
     },
     "execution_count": 18,
     "metadata": {},
     "output_type": "execute_result"
    },
    {
     "data": {
      "image/png": "[encoded data removed]",
      "text/plain": [
       "<Figure size 432x288 with 1 Axes>"
      ]
     },
     "metadata": {
      "needs_background": "light"
     },
     "output_type": "display_data"
    }
   ],
   "source": [
    "plt.plot(d[\"AccX [mg]\"])\n",
    "plt.plot(d[\"AccY [mg]\"])\n",
    "plt.plot(d[\"AccZ [mg]\"])"
   ]
  },
  {
   "cell_type": "code",
   "execution_count": 19,
   "metadata": {},
   "outputs": [
    {
     "data": {
      "text/plain": [
       "[<matplotlib.lines.Line2D at 0x26c5cf9a490>]"
      ]
     },
     "execution_count": 19,
     "metadata": {},
     "output_type": "execute_result"
    },
    {
     "data": {
      "image/png": "[encoded data removed]",
      "text/plain": [
       "<Figure size 432x288 with 1 Axes>"
      ]
     },
     "metadata": {
      "needs_background": "light"
     },
     "output_type": "display_data"
    }
   ],
   "source": [
    "plt.plot(d[\"GyroX [mdps]\"])"
   ]
  },
  {
   "cell_type": "markdown",
   "metadata": {},
   "source": [
    "# Fetch balancier data depuis Gsheet\n",
    "\n",
    "Récupération du résultat attendu depuis un Google Sheet"
   ]
  },
  {
   "cell_type": "code",
   "execution_count": 20,
   "metadata": {},
   "outputs": [
    {
     "ename": "ModuleNotFoundError",
     "evalue": "No module named 'googleapiclient'",
     "output_type": "error",
     "traceback": [
      "\u001b[1;31m---------------------------------------------------------------------------\u001b[0m",
      "\u001b[1;31mModuleNotFoundError\u001b[0m                       Traceback (most recent call last)",
      "\u001b[1;32m~\\AppData\\Local\\Temp/ipykernel_22676/3069097746.py\u001b[0m in \u001b[0;36m<module>\u001b[1;34m\u001b[0m\n\u001b[1;32m----> 1\u001b[1;33m \u001b[1;32mfrom\u001b[0m \u001b[0mgSheet\u001b[0m \u001b[1;32mimport\u001b[0m \u001b[0mSheetAPI\u001b[0m\u001b[1;33m\u001b[0m\u001b[1;33m\u001b[0m\u001b[0m\n\u001b[0m",
      "\u001b[1;32mc:\\Users\\ladre\\Documents\\Machine_learning\\MLSE-Project\\exercices\\datalogger\\gSheet.py\u001b[0m in \u001b[0;36m<module>\u001b[1;34m\u001b[0m\n\u001b[0;32m      2\u001b[0m \u001b[1;32mfrom\u001b[0m \u001b[0m__future__\u001b[0m \u001b[1;32mimport\u001b[0m \u001b[0mprint_function\u001b[0m\u001b[1;33m\u001b[0m\u001b[1;33m\u001b[0m\u001b[0m\n\u001b[0;32m      3\u001b[0m \u001b[1;32mimport\u001b[0m \u001b[0mos\u001b[0m\u001b[1;33m.\u001b[0m\u001b[0mpath\u001b[0m\u001b[1;33m\u001b[0m\u001b[1;33m\u001b[0m\u001b[0m\n\u001b[1;32m----> 4\u001b[1;33m \u001b[1;32mfrom\u001b[0m \u001b[0mgoogleapiclient\u001b[0m\u001b[1;33m.\u001b[0m\u001b[0mdiscovery\u001b[0m \u001b[1;32mimport\u001b[0m \u001b[0mbuild\u001b[0m\u001b[1;33m\u001b[0m\u001b[1;33m\u001b[0m\u001b[0m\n\u001b[0m\u001b[0;32m      5\u001b[0m \u001b[1;32mfrom\u001b[0m \u001b[0mgoogle_auth_oauthlib\u001b[0m\u001b[1;33m.\u001b[0m\u001b[0mflow\u001b[0m \u001b[1;32mimport\u001b[0m \u001b[0mInstalledAppFlow\u001b[0m\u001b[1;33m\u001b[0m\u001b[1;33m\u001b[0m\u001b[0m\n\u001b[0;32m      6\u001b[0m \u001b[1;32mfrom\u001b[0m \u001b[0mgoogle\u001b[0m\u001b[1;33m.\u001b[0m\u001b[0mauth\u001b[0m\u001b[1;33m.\u001b[0m\u001b[0mtransport\u001b[0m\u001b[1;33m.\u001b[0m\u001b[0mrequests\u001b[0m \u001b[1;32mimport\u001b[0m \u001b[0mRequest\u001b[0m\u001b[1;33m\u001b[0m\u001b[1;33m\u001b[0m\u001b[0m\n",
      "\u001b[1;31mModuleNotFoundError\u001b[0m: No module named 'googleapiclient'"
     ]
    }
   ],
   "source": [
    "from gSheet import SheetAPI"
   ]
  },
  {
   "cell_type": "code",
   "execution_count": 21,
   "metadata": {},
   "outputs": [
    {
     "name": "stdout",
     "output_type": "stream",
     "text": [
      "[['0', 'Oui'], ['1', 'Oui'], ['2', 'Oui'], ['3', 'Non'], ['4', 'Non'], ['5', 'Oui'], ['6', 'Non'], ['7', 'Oui'], ['8', 'Non'], ['9', 'Oui'], ['10', 'Oui'], ['11', 'Oui'], ['12', 'Non'], ['13', 'Oui'], ['14', 'Oui'], ['15', 'Oui'], ['16', 'Oui'], ['17', 'Oui'], ['18', 'Non'], ['19', 'Non'], ['20', 'Non'], ['21', 'Oui'], ['22', 'Oui'], ['23', 'Oui'], ['24', 'Oui'], ['25', 'Oui'], ['26', 'Non'], ['27', 'Oui'], ['28', 'Oui'], ['29', 'Non'], ['30', 'Non'], ['31', 'Oui'], ['32', 'Non']]\n"
     ]
    }
   ],
   "source": [
    "# The ID and range of a sample spreadsheet.\n",
    "SPREADSHEET_ID = '1By59dQ56zL_kP0tW9Iyf4FppyEvJtcwnuG4gx1iokpM'\n",
    "api = SheetAPI(SPREADSHEET_ID)\n",
    "api.connect()\n",
    "print(api.getValues(\"A2:B100\"))"
   ]
  },
  {
   "cell_type": "markdown",
   "metadata": {},
   "source": [
    "# Parsing the data\n",
    "\n",
    "Given the data, we can parse it to extract the information we need.\n",
    "\n",
    "First we slice the dataframe into multiple 1-sec **rolling** windows\n",
    "Then we multiply the data by sampling the data into subsets."
   ]
  },
  {
   "cell_type": "code",
   "execution_count": null,
   "metadata": {},
   "outputs": [],
   "source": [
    "SAMPLE_RATE = 50 # Hz\n",
    "DATA_RATE = 20 # Hz\n",
    "WINDOW_LENGTH = 2000 # (in ms)"
   ]
  },
  {
   "cell_type": "code",
   "execution_count": null,
   "metadata": {},
   "outputs": [],
   "source": [
    "\n",
    "def sliceDf(df, step):\n",
    "    res = []\n",
    "    while (len(df) > step):\n",
    "        res.append(df.iloc[:step])\n",
    "        df = df.iloc[1:]\n",
    "    return res\n",
    "\n",
    "def removeTime(df):\n",
    "    df = df.drop(columns=[\"T [ms]\"])\n",
    "    return df\n",
    "\n",
    "def sampleDf(df, sample):\n",
    "    res = []\n",
    "    for i in range(0, sample): # A tester\n",
    "        res.append(df.iloc[lambda x: x.index % sample == i])\n",
    "    return res"
   ]
  },
  {
   "cell_type": "code",
   "execution_count": 22,
   "metadata": {},
   "outputs": [
    {
     "data": {
      "text/plain": [
       "Index(['T [ms]', 'AccX [mg]', 'AccY [mg]', 'AccZ [mg]', 'GyroX [mdps]',\n",
       "       'GyroY [mdps]', 'GyroZ [mdps]'],\n",
       "      dtype='object')"
      ]
     },
     "execution_count": 22,
     "metadata": {},
     "output_type": "execute_result"
    }
   ],
   "source": [
    "d = pd.read_csv('data/balancier0.csv')\n",
    "d.columns"
   ]
  },
  {
   "cell_type": "code",
   "execution_count": 23,
   "metadata": {},
   "outputs": [
    {
     "data": {
      "text/html": [
       "<div>\n",
       "<style scoped>\n",
       "    .dataframe tbody tr th:only-of-type {\n",
       "        vertical-align: middle;\n",
       "    }\n",
       "\n",
       "    .dataframe tbody tr th {\n",
       "        vertical-align: top;\n",
       "    }\n",
       "\n",
       "    .dataframe thead th {\n",
       "        text-align: right;\n",
       "    }\n",
       "</style>\n",
       "<table border=\"1\" class=\"dataframe\">\n",
       "  <thead>\n",
       "    <tr style=\"text-align: right;\">\n",
       "      <th></th>\n",
       "      <th>T [ms]</th>\n",
       "      <th>AccX [mg]</th>\n",
       "      <th>AccY [mg]</th>\n",
       "      <th>AccZ [mg]</th>\n",
       "      <th>GyroX [mdps]</th>\n",
       "      <th>GyroY [mdps]</th>\n",
       "      <th>GyroZ [mdps]</th>\n",
       "    </tr>\n",
       "  </thead>\n",
       "  <tbody>\n",
       "    <tr>\n",
       "      <th>693</th>\n",
       "      <td>16373</td>\n",
       "      <td>-85</td>\n",
       "      <td>281</td>\n",
       "      <td>-98</td>\n",
       "      <td>-248570</td>\n",
       "      <td>380940</td>\n",
       "      <td>-58030</td>\n",
       "    </tr>\n",
       "    <tr>\n",
       "      <th>694</th>\n",
       "      <td>16393</td>\n",
       "      <td>-86</td>\n",
       "      <td>219</td>\n",
       "      <td>-88</td>\n",
       "      <td>-255920</td>\n",
       "      <td>403620</td>\n",
       "      <td>-20580</td>\n",
       "    </tr>\n",
       "    <tr>\n",
       "      <th>695</th>\n",
       "      <td>16413</td>\n",
       "      <td>-97</td>\n",
       "      <td>288</td>\n",
       "      <td>-128</td>\n",
       "      <td>-252560</td>\n",
       "      <td>410060</td>\n",
       "      <td>-19950</td>\n",
       "    </tr>\n",
       "    <tr>\n",
       "      <th>696</th>\n",
       "      <td>16433</td>\n",
       "      <td>-118</td>\n",
       "      <td>459</td>\n",
       "      <td>-213</td>\n",
       "      <td>-207060</td>\n",
       "      <td>418810</td>\n",
       "      <td>-39620</td>\n",
       "    </tr>\n",
       "    <tr>\n",
       "      <th>697</th>\n",
       "      <td>16453</td>\n",
       "      <td>-153</td>\n",
       "      <td>625</td>\n",
       "      <td>-252</td>\n",
       "      <td>-72310</td>\n",
       "      <td>450730</td>\n",
       "      <td>-59640</td>\n",
       "    </tr>\n",
       "    <tr>\n",
       "      <th>698</th>\n",
       "      <td>16473</td>\n",
       "      <td>393</td>\n",
       "      <td>1574</td>\n",
       "      <td>304</td>\n",
       "      <td>128100</td>\n",
       "      <td>509040</td>\n",
       "      <td>-48020</td>\n",
       "    </tr>\n",
       "    <tr>\n",
       "      <th>699</th>\n",
       "      <td>16493</td>\n",
       "      <td>-383</td>\n",
       "      <td>270</td>\n",
       "      <td>-550</td>\n",
       "      <td>155610</td>\n",
       "      <td>632240</td>\n",
       "      <td>15120</td>\n",
       "    </tr>\n",
       "    <tr>\n",
       "      <th>700</th>\n",
       "      <td>16513</td>\n",
       "      <td>-338</td>\n",
       "      <td>138</td>\n",
       "      <td>-845</td>\n",
       "      <td>-515480</td>\n",
       "      <td>1146670</td>\n",
       "      <td>103740</td>\n",
       "    </tr>\n",
       "    <tr>\n",
       "      <th>701</th>\n",
       "      <td>16533</td>\n",
       "      <td>-1314</td>\n",
       "      <td>777</td>\n",
       "      <td>-1101</td>\n",
       "      <td>-438760</td>\n",
       "      <td>1355410</td>\n",
       "      <td>114520</td>\n",
       "    </tr>\n",
       "    <tr>\n",
       "      <th>702</th>\n",
       "      <td>16553</td>\n",
       "      <td>-1681</td>\n",
       "      <td>0</td>\n",
       "      <td>-1220</td>\n",
       "      <td>-22750</td>\n",
       "      <td>1711920</td>\n",
       "      <td>140980</td>\n",
       "    </tr>\n",
       "  </tbody>\n",
       "</table>\n",
       "</div>"
      ],
      "text/plain": [
       "     T [ms]  AccX [mg]  AccY [mg]  AccZ [mg]  GyroX [mdps]  GyroY [mdps]  \\\n",
       "693   16373        -85        281        -98       -248570        380940   \n",
       "694   16393        -86        219        -88       -255920        403620   \n",
       "695   16413        -97        288       -128       -252560        410060   \n",
       "696   16433       -118        459       -213       -207060        418810   \n",
       "697   16453       -153        625       -252        -72310        450730   \n",
       "698   16473        393       1574        304        128100        509040   \n",
       "699   16493       -383        270       -550        155610        632240   \n",
       "700   16513       -338        138       -845       -515480       1146670   \n",
       "701   16533      -1314        777      -1101       -438760       1355410   \n",
       "702   16553      -1681          0      -1220        -22750       1711920   \n",
       "\n",
       "     GyroZ [mdps]  \n",
       "693        -58030  \n",
       "694        -20580  \n",
       "695        -19950  \n",
       "696        -39620  \n",
       "697        -59640  \n",
       "698        -48020  \n",
       "699         15120  \n",
       "700        103740  \n",
       "701        114520  \n",
       "702        140980  "
      ]
     },
     "execution_count": 23,
     "metadata": {},
     "output_type": "execute_result"
    }
   ],
   "source": [
    "d.tail(10)"
   ]
  },
  {
   "cell_type": "code",
   "execution_count": null,
   "metadata": {},
   "outputs": [],
   "source": []
  }
 ],
 "metadata": {
  "interpreter": {
   "hash": "e76f0dc653f8d2ef4c080a707dc31e02e03574b68b8024816724bcd14c82a0bd"
  },
  "kernelspec": {
   "display_name": "Python 3.8.0 64-bit",
   "language": "python",
   "name": "python3"
  },
  "language_info": {
   "codemirror_mode": {
    "name": "ipython",
    "version": 3
   },
   "file_extension": ".py",
   "mimetype": "text/x-python",
   "name": "python",
   "nbconvert_exporter": "python",
   "pygments_lexer": "ipython3",
   "version": "3.8.0"
  },
  "orig_nbformat": 4
 },
 "nbformat": 4,
 "nbformat_minor": 2
}
